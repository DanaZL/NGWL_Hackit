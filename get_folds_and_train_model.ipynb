{
 "cells": [
  {
   "cell_type": "code",
   "execution_count": 1,
   "metadata": {},
   "outputs": [],
   "source": [
    "import pandas as pd\n",
    "import numpy as np\n",
    "import sklearn\n",
    "\n",
    "import warnings\n",
    "warnings.filterwarnings(\"ignore\")\n",
    "\n",
    "from sklearn.linear_model import SGDClassifier\n",
    "from sklearn.metrics import f1_score\n",
    "\n",
    "N_FOLDS = 3"
   ]
  },
  {
   "cell_type": "code",
   "execution_count": 11,
   "metadata": {},
   "outputs": [
    {
     "name": "stdout",
     "output_type": "stream",
     "text": [
      "229989\n",
      "0.0    115137\n",
      "1.0    114852\n",
      "Name: target, dtype: int64\n",
      "257197\n",
      "0.0    136768\n",
      "1.0    120429\n",
      "Name: target, dtype: int64\n"
     ]
    }
   ],
   "source": [
    "train_data_def = pd.read_csv('train/train.csv', sep=';')\n",
    "\n",
    "train_start = '2020-06'\n",
    "test_start = '2020-07'\n",
    "\n",
    "train_data = train_data_def[train_data_def['order_completed_at']==train_start]\n",
    "print(train_data['phone_id'].nunique())\n",
    "print(train_data['target'].value_counts())\n",
    "\n",
    "test_data = train_data_def[train_data_def['order_completed_at']==test_start]\n",
    "print(test_data['phone_id'].nunique())\n",
    "print(test_data['target'].value_counts())\n",
    "\n",
    "train_data.loc[:, 'fold_num'] = [np.random.randint(1,N_FOLDS+1) for i in range(len(train_data))]\n",
    "train_data['fold_num'].value_counts()\n",
    "train_data['month']=6\n",
    "\n",
    "test_data.loc[:, 'fold_num'] = [np.random.randint(1,N_FOLDS+1) for i in range(len(test_data))]\n",
    "test_data['fold_num'].value_counts()\n",
    "test_data['month']=7\n",
    "\n",
    "\n",
    "train_folds = []\n",
    "test_folds = []\n",
    "\n",
    "for i in range(1, N_FOLDS+1):\n",
    "    local_data_train = train_data.loc[train_data['fold_num']==i]\n",
    "    local_data_test = test_data.loc[test_data['fold_num']==i]\n",
    "\n",
    "    del local_data_train['fold_num']\n",
    "    del local_data_test['fold_num']\n",
    "    \n",
    "    del local_data_train['order_completed_at']\n",
    "    del local_data_test['order_completed_at']\n",
    "    \n",
    "    train_folds.append(local_data_train.reset_index(drop=True))\n",
    "    test_folds.append(local_data_test.reset_index(drop=True))\n"
   ]
  },
  {
   "cell_type": "code",
   "execution_count": 12,
   "metadata": {
    "collapsed": true
   },
   "outputs": [],
   "source": [
    "def get_X_y(folds, i, fea):\n",
    "    local_fea = train_folds[i].merge(fea, on =['phone_id', 'month'])\n",
    "    del local_fea['phone_id']\n",
    "    del local_fea['month']\n",
    "    return local_fea.drop('target', axis=1).values, local_fea['target'].values"
   ]
  },
  {
   "cell_type": "code",
   "execution_count": 18,
   "metadata": {
    "scrolled": true
   },
   "outputs": [
    {
     "name": "stdout",
     "output_type": "stream",
     "text": [
      "0\n",
      "mean score - 0.7817942605546655\n"
     ]
    }
   ],
   "source": [
    "##JUST AN EXAMPLE OF FEA\n",
    "# fea = pd.DataFrame([[19843],[7], [1], [3]]).T\n",
    "# fea.columns = ['phone_id', 'month', 'f1', 'f2']\n",
    "#END OF EXAMPLE FEA\n",
    "fea = pd.read_csv('fea/f_shipments.csv')\n",
    "\n",
    "clf = SGDClassifier()\n",
    "\n",
    "scores = []\n",
    "for i in range(N_FOLDS):\n",
    "    \n",
    "    print(i)\n",
    "    X_tr, y_tr = get_X_y(train_folds, i, fea)\n",
    "    X_te, y_te = get_X_y(test_folds, i, fea)    \n",
    "    \n",
    "    clf.fit(X_tr, y_tr)\n",
    "    preds = clf.predict(X_te)\n",
    "    \n",
    "    scores.append(f1_score(y_te, preds))\n",
    "    break\n",
    "    \n",
    "    \n",
    "print(f'mean score - {np.mean(scores)}')"
   ]
  }
 ],
 "metadata": {
  "kernelspec": {
   "display_name": "Python 3",
   "language": "python",
   "name": "python3"
  },
  "language_info": {
   "codemirror_mode": {
    "name": "ipython",
    "version": 3
   },
   "file_extension": ".py",
   "mimetype": "text/x-python",
   "name": "python",
   "nbconvert_exporter": "python",
   "pygments_lexer": "ipython3",
   "version": "3.6.1"
  }
 },
 "nbformat": 4,
 "nbformat_minor": 2
}
