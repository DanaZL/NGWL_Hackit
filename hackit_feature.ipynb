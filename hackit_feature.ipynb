{
 "cells": [
  {
   "cell_type": "code",
   "execution_count": 1,
   "metadata": {},
   "outputs": [],
   "source": [
    "import pandas as pd\n",
    "import os"
   ]
  },
  {
   "cell_type": "code",
   "execution_count": 2,
   "metadata": {},
   "outputs": [],
   "source": [
    "# items\n",
    "all_files = os.listdir('ngwl-predict-customer-churn')"
   ]
  },
  {
   "cell_type": "code",
   "execution_count": 3,
   "metadata": {},
   "outputs": [],
   "source": [
    "items = pd.DataFrame({})\n",
    "for i in [x for x in all_files if 'line' in x]:\n",
    "    for fname in os.listdir('ngwl-predict-customer-churn/'+i):\n",
    "        tmp = pd.read_csv(f'ngwl-predict-customer-churn/{i}/{fname}')\n",
    "        tmp = tmp.groupby(by='shipment_id', as_index=False).agg({\n",
    "                    'price': ['sum', 'std'], \n",
    "                    'item_id': ['nunique'],\n",
    "                    'quantity': ['sum'],\n",
    "                    'replaced': ['sum'],\n",
    "                    'cancelled': ['sum'],\n",
    "                    'discount': ['sum']\n",
    "                })\n",
    "        tmp.columns = tmp.columns = [x[0]+'_'+x[1]  for x in tmp.columns]\n",
    "        items = pd.concat([items, tmp])"
   ]
  },
  {
   "cell_type": "code",
   "execution_count": 4,
   "metadata": {},
   "outputs": [],
   "source": [
    "items = items.rename({'shipment_id_': 'shipment_id'}, axis=1)"
   ]
  },
  {
   "cell_type": "code",
   "execution_count": 5,
   "metadata": {},
   "outputs": [],
   "source": [
    "# shipments\n",
    "shipments = pd.DataFrame({})\n",
    "for i in ['shipments2020-01-01', 'shipments2020-03-01', 'shipments2020-04-30', 'shipments2020-06-29']:\n",
    "    tmp = pd.read_csv(f'ngwl-predict-customer-churn/shipments/{i}.csv')\n",
    "    shipments = pd.concat([tmp, shipments])"
   ]
  },
  {
   "cell_type": "code",
   "execution_count": 6,
   "metadata": {},
   "outputs": [],
   "source": [
    "adress = pd.read_csv('ngwl-predict-customer-churn/misc/addresses.csv')\n",
    "# add users phone\n",
    "shipments = shipments.merge(adress, how='left', left_on='ship_address_id', right_on='id')"
   ]
  },
  {
   "cell_type": "code",
   "execution_count": 8,
   "metadata": {},
   "outputs": [],
   "source": [
    "shipments = shipments.merge(items, on='shipment_id', how='left')"
   ]
  },
  {
   "cell_type": "code",
   "execution_count": 10,
   "metadata": {},
   "outputs": [],
   "source": [
    "# month\n",
    "shipments['dt_'] = pd.to_datetime(shipments['order_completed_at'], format='%Y-%m-%d %H:%M:%S')\n",
    "shipments = shipments[shipments['dt_']>='2020-01-01']\n",
    "shipments['month'] = pd.to_datetime(shipments['order_completed_at'], format='%Y-%m-%d %H:%M:%S').dt.month\n",
    "shipments = shipments.drop_duplicates()\n",
    "shipments_first = shipments.groupby(by='phone_id', as_index=False)['dt_'].min()\n",
    "shipments_first['first_month'] = shipments_first['dt_'].dt.month"
   ]
  },
  {
   "cell_type": "code",
   "execution_count": 80,
   "metadata": {},
   "outputs": [
    {
     "data": {
      "text/plain": [
       "Index(['user_id', 'ship_address_id', 'shipment_id', 'order_id',\n",
       "       'order_created_at', 'order_completed_at', 'shipment_starts_at',\n",
       "       'retailer', 's.order_state', 'shipment_state', 's.city_name',\n",
       "       's.store_id', 'total_cost', 'rate', 'dw_kind', 'promo_total',\n",
       "       'total_weight', 'platform', 'os', 'shipped_at', 'id', 'phone_id',\n",
       "       'price_sum', 'price_std', 'item_id_nunique', 'quantity_sum',\n",
       "       'replaced_sum', 'cancelled_sum', 'discount_sum', 'dt_', 'month'],\n",
       "      dtype='object')"
      ]
     },
     "execution_count": 80,
     "metadata": {},
     "output_type": "execute_result"
    }
   ],
   "source": [
    "shipments.columns"
   ]
  },
  {
   "cell_type": "code",
   "execution_count": 12,
   "metadata": {},
   "outputs": [],
   "source": [
    "f_shipments = shipments.groupby(by=['phone_id', 'month'], as_index=False).agg({\n",
    "    'order_id': ['nunique'],\n",
    "    'total_cost': ['sum', 'min', 'max', 'mean'],\n",
    "    'rate': ['mean'],\n",
    "    'promo_total': ['sum', 'mean'],\n",
    "    'total_weight': ['sum', 'mean'],\n",
    "    'discount_sum': ['sum'],\n",
    "    'cancelled_sum': ['sum'],\n",
    "    'replaced_sum': ['sum'],\n",
    "    'quantity_sum': ['sum'],\n",
    "    'item_id_nunique': ['sum'],\n",
    "    'price_sum': ['sum', 'std'],\n",
    "    'price_std': ['mean']\n",
    "\n",
    "})"
   ]
  },
  {
   "cell_type": "code",
   "execution_count": 13,
   "metadata": {},
   "outputs": [],
   "source": [
    "f_shipments.columns = [x[0]+'_'+x[1] if \n",
    "                       (x[0]!='phone_id') and \n",
    "                       (x[0]!='month')\n",
    "                       else x[0] for x in f_shipments.columns]"
   ]
  },
  {
   "cell_type": "code",
   "execution_count": 14,
   "metadata": {},
   "outputs": [
    {
     "data": {
      "text/html": [
       "<div>\n",
       "<style scoped>\n",
       "    .dataframe tbody tr th:only-of-type {\n",
       "        vertical-align: middle;\n",
       "    }\n",
       "\n",
       "    .dataframe tbody tr th {\n",
       "        vertical-align: top;\n",
       "    }\n",
       "\n",
       "    .dataframe thead th {\n",
       "        text-align: right;\n",
       "    }\n",
       "</style>\n",
       "<table border=\"1\" class=\"dataframe\">\n",
       "  <thead>\n",
       "    <tr style=\"text-align: right;\">\n",
       "      <th></th>\n",
       "      <th>phone_id</th>\n",
       "      <th>month</th>\n",
       "      <th>order_id_nunique</th>\n",
       "      <th>total_cost_sum</th>\n",
       "      <th>total_cost_min</th>\n",
       "      <th>total_cost_max</th>\n",
       "      <th>total_cost_mean</th>\n",
       "      <th>rate_mean</th>\n",
       "      <th>promo_total_sum</th>\n",
       "      <th>promo_total_mean</th>\n",
       "      <th>total_weight_sum</th>\n",
       "      <th>total_weight_mean</th>\n",
       "      <th>discount_sum_sum</th>\n",
       "      <th>cancelled_sum_sum</th>\n",
       "      <th>replaced_sum_sum</th>\n",
       "      <th>quantity_sum_sum</th>\n",
       "      <th>item_id_nunique_sum</th>\n",
       "      <th>price_sum_sum</th>\n",
       "      <th>price_sum_std</th>\n",
       "      <th>price_std_mean</th>\n",
       "    </tr>\n",
       "  </thead>\n",
       "  <tbody>\n",
       "    <tr>\n",
       "      <th>0</th>\n",
       "      <td>2</td>\n",
       "      <td>1</td>\n",
       "      <td>1</td>\n",
       "      <td>98.0</td>\n",
       "      <td>98.0</td>\n",
       "      <td>98.0</td>\n",
       "      <td>98.0</td>\n",
       "      <td>0.0</td>\n",
       "      <td>0.0</td>\n",
       "      <td>0.0</td>\n",
       "      <td>22024</td>\n",
       "      <td>22024.0</td>\n",
       "      <td>1483.779999</td>\n",
       "      <td>1.0</td>\n",
       "      <td>0.0</td>\n",
       "      <td>38.0</td>\n",
       "      <td>29.0</td>\n",
       "      <td>3827.990007</td>\n",
       "      <td>NaN</td>\n",
       "      <td>139.825447</td>\n",
       "    </tr>\n",
       "    <tr>\n",
       "      <th>1</th>\n",
       "      <td>2</td>\n",
       "      <td>2</td>\n",
       "      <td>2</td>\n",
       "      <td>366.0</td>\n",
       "      <td>158.0</td>\n",
       "      <td>208.0</td>\n",
       "      <td>183.0</td>\n",
       "      <td>0.0</td>\n",
       "      <td>0.0</td>\n",
       "      <td>0.0</td>\n",
       "      <td>67946</td>\n",
       "      <td>33973.0</td>\n",
       "      <td>1284.839994</td>\n",
       "      <td>1.0</td>\n",
       "      <td>2.0</td>\n",
       "      <td>88.0</td>\n",
       "      <td>64.0</td>\n",
       "      <td>5524.700024</td>\n",
       "      <td>198.074751</td>\n",
       "      <td>89.027090</td>\n",
       "    </tr>\n",
       "    <tr>\n",
       "      <th>2</th>\n",
       "      <td>2</td>\n",
       "      <td>3</td>\n",
       "      <td>1</td>\n",
       "      <td>233.0</td>\n",
       "      <td>233.0</td>\n",
       "      <td>233.0</td>\n",
       "      <td>233.0</td>\n",
       "      <td>0.0</td>\n",
       "      <td>0.0</td>\n",
       "      <td>0.0</td>\n",
       "      <td>34195</td>\n",
       "      <td>34195.0</td>\n",
       "      <td>1077.389990</td>\n",
       "      <td>0.0</td>\n",
       "      <td>2.0</td>\n",
       "      <td>52.0</td>\n",
       "      <td>45.0</td>\n",
       "      <td>4716.760031</td>\n",
       "      <td>NaN</td>\n",
       "      <td>100.487544</td>\n",
       "    </tr>\n",
       "    <tr>\n",
       "      <th>3</th>\n",
       "      <td>2</td>\n",
       "      <td>5</td>\n",
       "      <td>1</td>\n",
       "      <td>248.0</td>\n",
       "      <td>248.0</td>\n",
       "      <td>248.0</td>\n",
       "      <td>248.0</td>\n",
       "      <td>0.0</td>\n",
       "      <td>0.0</td>\n",
       "      <td>0.0</td>\n",
       "      <td>40777</td>\n",
       "      <td>40777.0</td>\n",
       "      <td>825.089998</td>\n",
       "      <td>3.0</td>\n",
       "      <td>5.0</td>\n",
       "      <td>54.0</td>\n",
       "      <td>47.0</td>\n",
       "      <td>5684.450022</td>\n",
       "      <td>NaN</td>\n",
       "      <td>140.872190</td>\n",
       "    </tr>\n",
       "    <tr>\n",
       "      <th>4</th>\n",
       "      <td>3</td>\n",
       "      <td>3</td>\n",
       "      <td>2</td>\n",
       "      <td>0.0</td>\n",
       "      <td>0.0</td>\n",
       "      <td>0.0</td>\n",
       "      <td>0.0</td>\n",
       "      <td>5.0</td>\n",
       "      <td>0.0</td>\n",
       "      <td>0.0</td>\n",
       "      <td>31265</td>\n",
       "      <td>15632.5</td>\n",
       "      <td>3736.220008</td>\n",
       "      <td>5.0</td>\n",
       "      <td>1.0</td>\n",
       "      <td>152.0</td>\n",
       "      <td>84.0</td>\n",
       "      <td>6324.900032</td>\n",
       "      <td>1861.967721</td>\n",
       "      <td>94.223764</td>\n",
       "    </tr>\n",
       "  </tbody>\n",
       "</table>\n",
       "</div>"
      ],
      "text/plain": [
       "   phone_id  month  order_id_nunique  total_cost_sum  total_cost_min  \\\n",
       "0         2      1                 1            98.0            98.0   \n",
       "1         2      2                 2           366.0           158.0   \n",
       "2         2      3                 1           233.0           233.0   \n",
       "3         2      5                 1           248.0           248.0   \n",
       "4         3      3                 2             0.0             0.0   \n",
       "\n",
       "   total_cost_max  total_cost_mean  rate_mean  promo_total_sum  \\\n",
       "0            98.0             98.0        0.0              0.0   \n",
       "1           208.0            183.0        0.0              0.0   \n",
       "2           233.0            233.0        0.0              0.0   \n",
       "3           248.0            248.0        0.0              0.0   \n",
       "4             0.0              0.0        5.0              0.0   \n",
       "\n",
       "   promo_total_mean  total_weight_sum  total_weight_mean  discount_sum_sum  \\\n",
       "0               0.0             22024            22024.0       1483.779999   \n",
       "1               0.0             67946            33973.0       1284.839994   \n",
       "2               0.0             34195            34195.0       1077.389990   \n",
       "3               0.0             40777            40777.0        825.089998   \n",
       "4               0.0             31265            15632.5       3736.220008   \n",
       "\n",
       "   cancelled_sum_sum  replaced_sum_sum  quantity_sum_sum  item_id_nunique_sum  \\\n",
       "0                1.0               0.0              38.0                 29.0   \n",
       "1                1.0               2.0              88.0                 64.0   \n",
       "2                0.0               2.0              52.0                 45.0   \n",
       "3                3.0               5.0              54.0                 47.0   \n",
       "4                5.0               1.0             152.0                 84.0   \n",
       "\n",
       "   price_sum_sum  price_sum_std  price_std_mean  \n",
       "0    3827.990007            NaN      139.825447  \n",
       "1    5524.700024     198.074751       89.027090  \n",
       "2    4716.760031            NaN      100.487544  \n",
       "3    5684.450022            NaN      140.872190  \n",
       "4    6324.900032    1861.967721       94.223764  "
      ]
     },
     "execution_count": 14,
     "metadata": {},
     "output_type": "execute_result"
    }
   ],
   "source": [
    "f_shipments.head()"
   ]
  },
  {
   "cell_type": "code",
   "execution_count": 15,
   "metadata": {},
   "outputs": [],
   "source": [
    "f_shipments = f_shipments.merge(shipments_first, on='phone_id', how='left')"
   ]
  },
  {
   "cell_type": "code",
   "execution_count": 16,
   "metadata": {},
   "outputs": [],
   "source": [
    "f_shipments['month_after_first'] = f_shipments['month'] - f_shipments['first_month'] "
   ]
  },
  {
   "cell_type": "code",
   "execution_count": 17,
   "metadata": {},
   "outputs": [],
   "source": [
    "f_shipments.month_after_first.fillna(0, inplace=True)"
   ]
  },
  {
   "cell_type": "code",
   "execution_count": 18,
   "metadata": {},
   "outputs": [],
   "source": [
    "f_shipments = f_shipments.drop(['first_month', 'dt_'], axis=1)"
   ]
  },
  {
   "cell_type": "code",
   "execution_count": 19,
   "metadata": {},
   "outputs": [],
   "source": [
    "f_shipments['cancelled_pr'] = f_shipments['cancelled_sum_sum']/f_shipments['quantity_sum_sum']"
   ]
  },
  {
   "cell_type": "code",
   "execution_count": 20,
   "metadata": {},
   "outputs": [],
   "source": [
    "f_shipments['replaced_pr'] = f_shipments['replaced_sum_sum']/f_shipments['quantity_sum_sum']"
   ]
  },
  {
   "cell_type": "code",
   "execution_count": 21,
   "metadata": {},
   "outputs": [],
   "source": [
    "f_shipments = f_shipments.drop(['cancelled_sum_sum', 'replaced_sum_sum'], axis=1)"
   ]
  },
  {
   "cell_type": "code",
   "execution_count": 22,
   "metadata": {},
   "outputs": [],
   "source": [
    "f_shipments.columns = [x.replace('_sum_sum', '_sum') if '_sum_sum' in x else x for x in f_shipments.columns ]"
   ]
  },
  {
   "cell_type": "code",
   "execution_count": 23,
   "metadata": {},
   "outputs": [],
   "source": [
    "f_shipments = f_shipments.drop(['price_sum_std'], axis=1)"
   ]
  },
  {
   "cell_type": "code",
   "execution_count": 24,
   "metadata": {},
   "outputs": [],
   "source": [
    "f_shipments.to_csv('f_shipments.csv', index=False)"
   ]
  },
  {
   "cell_type": "code",
   "execution_count": 25,
   "metadata": {},
   "outputs": [],
   "source": [
    "f_shipments[['phone_id', 'month', 'discount_sum', 'quantity_sum',\n",
    "       'item_id_nunique_sum', 'price_sum', 'price_std_mean',\n",
    "       'cancelled_pr', 'replaced_pr']].to_pickle('f_shipments_items.pkl')\n",
    "\n",
    "# .to_csv('f_shipments_items.csv', index=False)"
   ]
  },
  {
   "cell_type": "code",
   "execution_count": 26,
   "metadata": {},
   "outputs": [
    {
     "data": {
      "text/plain": [
       "Index(['phone_id', 'month', 'order_id_nunique', 'total_cost_sum',\n",
       "       'total_cost_min', 'total_cost_max', 'total_cost_mean', 'rate_mean',\n",
       "       'promo_total_sum', 'promo_total_mean', 'total_weight_sum',\n",
       "       'total_weight_mean', 'discount_sum', 'quantity_sum',\n",
       "       'item_id_nunique_sum', 'price_sum', 'price_std_mean',\n",
       "       'month_after_first', 'cancelled_pr', 'replaced_pr'],\n",
       "      dtype='object')"
      ]
     },
     "execution_count": 26,
     "metadata": {},
     "output_type": "execute_result"
    }
   ],
   "source": [
    "f_shipments.columns"
   ]
  },
  {
   "cell_type": "code",
   "execution_count": 27,
   "metadata": {},
   "outputs": [],
   "source": [
    "# days count after last activity\n",
    "# activity fric"
   ]
  },
  {
   "cell_type": "code",
   "execution_count": 28,
   "metadata": {},
   "outputs": [],
   "source": [
    "days_cnt = shipments.groupby(by=['month', 'phone_id'], as_index=False)['dt_'].max()"
   ]
  },
  {
   "cell_type": "code",
   "execution_count": 66,
   "metadata": {},
   "outputs": [],
   "source": [
    "days_cnt['day_after_last'] = 0\n",
    "for i in days_cnt.index:\n",
    "    days_cnt.at[i, 'day_after_last'] = (days_cnt.at[i, 'dt_'].\\\n",
    "                                        replace(day=1).\\\n",
    "                                        replace(month=days_cnt.at[i, 'month']+1)\n",
    "                                       - days_cnt.at[i, 'dt_']\n",
    "                                       ).days"
   ]
  },
  {
   "cell_type": "code",
   "execution_count": 76,
   "metadata": {},
   "outputs": [
    {
     "data": {
      "text/html": [
       "<div>\n",
       "<style scoped>\n",
       "    .dataframe tbody tr th:only-of-type {\n",
       "        vertical-align: middle;\n",
       "    }\n",
       "\n",
       "    .dataframe tbody tr th {\n",
       "        vertical-align: top;\n",
       "    }\n",
       "\n",
       "    .dataframe thead th {\n",
       "        text-align: right;\n",
       "    }\n",
       "</style>\n",
       "<table border=\"1\" class=\"dataframe\">\n",
       "  <thead>\n",
       "    <tr style=\"text-align: right;\">\n",
       "      <th></th>\n",
       "      <th>month</th>\n",
       "      <th>phone_id</th>\n",
       "      <th>dt_</th>\n",
       "      <th>day_after_last</th>\n",
       "    </tr>\n",
       "  </thead>\n",
       "  <tbody>\n",
       "    <tr>\n",
       "      <th>0</th>\n",
       "      <td>1</td>\n",
       "      <td>2</td>\n",
       "      <td>2020-01-22 10:28:37</td>\n",
       "      <td>10</td>\n",
       "    </tr>\n",
       "    <tr>\n",
       "      <th>1</th>\n",
       "      <td>1</td>\n",
       "      <td>6</td>\n",
       "      <td>2020-01-18 08:28:25</td>\n",
       "      <td>14</td>\n",
       "    </tr>\n",
       "    <tr>\n",
       "      <th>2</th>\n",
       "      <td>1</td>\n",
       "      <td>9</td>\n",
       "      <td>2020-01-03 09:05:59</td>\n",
       "      <td>29</td>\n",
       "    </tr>\n",
       "    <tr>\n",
       "      <th>3</th>\n",
       "      <td>1</td>\n",
       "      <td>11</td>\n",
       "      <td>2020-01-25 15:55:05</td>\n",
       "      <td>7</td>\n",
       "    </tr>\n",
       "    <tr>\n",
       "      <th>4</th>\n",
       "      <td>1</td>\n",
       "      <td>16</td>\n",
       "      <td>2020-01-25 11:58:56</td>\n",
       "      <td>7</td>\n",
       "    </tr>\n",
       "  </tbody>\n",
       "</table>\n",
       "</div>"
      ],
      "text/plain": [
       "   month  phone_id                 dt_  day_after_last\n",
       "0      1         2 2020-01-22 10:28:37              10\n",
       "1      1         6 2020-01-18 08:28:25              14\n",
       "2      1         9 2020-01-03 09:05:59              29\n",
       "3      1        11 2020-01-25 15:55:05               7\n",
       "4      1        16 2020-01-25 11:58:56               7"
      ]
     },
     "execution_count": 76,
     "metadata": {},
     "output_type": "execute_result"
    }
   ],
   "source": [
    "days_cnt.head()"
   ]
  },
  {
   "cell_type": "code",
   "execution_count": null,
   "metadata": {},
   "outputs": [],
   "source": [
    "import datetime as dt"
   ]
  },
  {
   "cell_type": "code",
   "execution_count": 68,
   "metadata": {},
   "outputs": [],
   "source": [
    "df = pd.read_pickle(\"fea/fea_all_actual_21_50.pkl\")"
   ]
  },
  {
   "cell_type": "code",
   "execution_count": 75,
   "metadata": {},
   "outputs": [],
   "source": [
    "df = df.merge(days_cnt[['month', 'phone_id', 'day_after_last']], on=['month', 'phone_id'])"
   ]
  },
  {
   "cell_type": "code",
   "execution_count": 78,
   "metadata": {},
   "outputs": [
    {
     "data": {
      "text/plain": [
       "Index(['order_id_nunique', 'total_cost_sum', 'total_cost_min',\n",
       "       'total_cost_max', 'total_cost_mean', 'total_cost_std', 'rate_mean',\n",
       "       'promo_total_sum', 'promo_total_mean', 'total_weight_sum',\n",
       "       'total_weight_mean', 'month', 'phone_id', 'month_after_first', 'age',\n",
       "       'genger_nan', 'gender_male', 'gender_female', 'order_state_complete',\n",
       "       'order_state_canceled', 'order_state_resumed', 'order_state_cart',\n",
       "       'shipment_state_shipped', 'shipment_state_canceled',\n",
       "       'shipment_state_collecting', 'shipment_state_ready',\n",
       "       'shipment_state_shipping', 'shipment_state_ready_to_ship',\n",
       "       'shipment_state_pending', 'discount_sum', 'quantity_sum',\n",
       "       'item_id_nunique_sum', 'price_sum', 'price_std_mean', 'cancelled_pr',\n",
       "       'replaced_pr', 'day_after_last'],\n",
       "      dtype='object')"
      ]
     },
     "execution_count": 78,
     "metadata": {},
     "output_type": "execute_result"
    }
   ],
   "source": [
    "df.columns"
   ]
  },
  {
   "cell_type": "code",
   "execution_count": 114,
   "metadata": {},
   "outputs": [],
   "source": [
    "os_last = shipments.groupby(by=['month', 'phone_id'], as_index=False).agg({'dt_': [max], 'os': ['last']})"
   ]
  },
  {
   "cell_type": "code",
   "execution_count": 115,
   "metadata": {},
   "outputs": [],
   "source": [
    "os_last.columns = os_last.columns.droplevel(1)"
   ]
  },
  {
   "cell_type": "code",
   "execution_count": 121,
   "metadata": {},
   "outputs": [],
   "source": [
    "os_last['v'] = 1"
   ]
  },
  {
   "cell_type": "code",
   "execution_count": 123,
   "metadata": {},
   "outputs": [],
   "source": [
    "os_last = os_last.pivot_table(\n",
    "    index=['month','phone_id'], columns='os', fill_value=0, values='v', \n",
    "    aggfunc='max').reset_index()"
   ]
  },
  {
   "cell_type": "code",
   "execution_count": 124,
   "metadata": {},
   "outputs": [
    {
     "data": {
      "text/html": [
       "<div>\n",
       "<style scoped>\n",
       "    .dataframe tbody tr th:only-of-type {\n",
       "        vertical-align: middle;\n",
       "    }\n",
       "\n",
       "    .dataframe tbody tr th {\n",
       "        vertical-align: top;\n",
       "    }\n",
       "\n",
       "    .dataframe thead th {\n",
       "        text-align: right;\n",
       "    }\n",
       "</style>\n",
       "<table border=\"1\" class=\"dataframe\">\n",
       "  <thead>\n",
       "    <tr style=\"text-align: right;\">\n",
       "      <th>os</th>\n",
       "      <th>month</th>\n",
       "      <th>phone_id</th>\n",
       "      <th>android</th>\n",
       "      <th>ios</th>\n",
       "      <th>linux</th>\n",
       "      <th>mac</th>\n",
       "      <th>other</th>\n",
       "      <th>windows</th>\n",
       "    </tr>\n",
       "  </thead>\n",
       "  <tbody>\n",
       "    <tr>\n",
       "      <th>0</th>\n",
       "      <td>1</td>\n",
       "      <td>2</td>\n",
       "      <td>0</td>\n",
       "      <td>0</td>\n",
       "      <td>0</td>\n",
       "      <td>0</td>\n",
       "      <td>0</td>\n",
       "      <td>1</td>\n",
       "    </tr>\n",
       "    <tr>\n",
       "      <th>1</th>\n",
       "      <td>1</td>\n",
       "      <td>6</td>\n",
       "      <td>0</td>\n",
       "      <td>0</td>\n",
       "      <td>0</td>\n",
       "      <td>1</td>\n",
       "      <td>0</td>\n",
       "      <td>0</td>\n",
       "    </tr>\n",
       "    <tr>\n",
       "      <th>2</th>\n",
       "      <td>1</td>\n",
       "      <td>9</td>\n",
       "      <td>0</td>\n",
       "      <td>0</td>\n",
       "      <td>0</td>\n",
       "      <td>0</td>\n",
       "      <td>0</td>\n",
       "      <td>1</td>\n",
       "    </tr>\n",
       "    <tr>\n",
       "      <th>3</th>\n",
       "      <td>1</td>\n",
       "      <td>11</td>\n",
       "      <td>1</td>\n",
       "      <td>0</td>\n",
       "      <td>0</td>\n",
       "      <td>0</td>\n",
       "      <td>0</td>\n",
       "      <td>0</td>\n",
       "    </tr>\n",
       "    <tr>\n",
       "      <th>4</th>\n",
       "      <td>1</td>\n",
       "      <td>16</td>\n",
       "      <td>0</td>\n",
       "      <td>0</td>\n",
       "      <td>0</td>\n",
       "      <td>1</td>\n",
       "      <td>0</td>\n",
       "      <td>0</td>\n",
       "    </tr>\n",
       "    <tr>\n",
       "      <th>...</th>\n",
       "      <td>...</td>\n",
       "      <td>...</td>\n",
       "      <td>...</td>\n",
       "      <td>...</td>\n",
       "      <td>...</td>\n",
       "      <td>...</td>\n",
       "      <td>...</td>\n",
       "      <td>...</td>\n",
       "    </tr>\n",
       "    <tr>\n",
       "      <th>1155773</th>\n",
       "      <td>8</td>\n",
       "      <td>719367</td>\n",
       "      <td>0</td>\n",
       "      <td>1</td>\n",
       "      <td>0</td>\n",
       "      <td>0</td>\n",
       "      <td>0</td>\n",
       "      <td>0</td>\n",
       "    </tr>\n",
       "    <tr>\n",
       "      <th>1155774</th>\n",
       "      <td>8</td>\n",
       "      <td>719369</td>\n",
       "      <td>0</td>\n",
       "      <td>1</td>\n",
       "      <td>0</td>\n",
       "      <td>0</td>\n",
       "      <td>0</td>\n",
       "      <td>0</td>\n",
       "    </tr>\n",
       "    <tr>\n",
       "      <th>1155775</th>\n",
       "      <td>8</td>\n",
       "      <td>719370</td>\n",
       "      <td>1</td>\n",
       "      <td>0</td>\n",
       "      <td>0</td>\n",
       "      <td>0</td>\n",
       "      <td>0</td>\n",
       "      <td>0</td>\n",
       "    </tr>\n",
       "    <tr>\n",
       "      <th>1155776</th>\n",
       "      <td>8</td>\n",
       "      <td>719373</td>\n",
       "      <td>0</td>\n",
       "      <td>0</td>\n",
       "      <td>0</td>\n",
       "      <td>0</td>\n",
       "      <td>0</td>\n",
       "      <td>1</td>\n",
       "    </tr>\n",
       "    <tr>\n",
       "      <th>1155777</th>\n",
       "      <td>8</td>\n",
       "      <td>719374</td>\n",
       "      <td>0</td>\n",
       "      <td>1</td>\n",
       "      <td>0</td>\n",
       "      <td>0</td>\n",
       "      <td>0</td>\n",
       "      <td>0</td>\n",
       "    </tr>\n",
       "  </tbody>\n",
       "</table>\n",
       "<p>1155778 rows × 8 columns</p>\n",
       "</div>"
      ],
      "text/plain": [
       "os       month  phone_id  android  ios  linux  mac  other  windows\n",
       "0            1         2        0    0      0    0      0        1\n",
       "1            1         6        0    0      0    1      0        0\n",
       "2            1         9        0    0      0    0      0        1\n",
       "3            1        11        1    0      0    0      0        0\n",
       "4            1        16        0    0      0    1      0        0\n",
       "...        ...       ...      ...  ...    ...  ...    ...      ...\n",
       "1155773      8    719367        0    1      0    0      0        0\n",
       "1155774      8    719369        0    1      0    0      0        0\n",
       "1155775      8    719370        1    0      0    0      0        0\n",
       "1155776      8    719373        0    0      0    0      0        1\n",
       "1155777      8    719374        0    1      0    0      0        0\n",
       "\n",
       "[1155778 rows x 8 columns]"
      ]
     },
     "execution_count": 124,
     "metadata": {},
     "output_type": "execute_result"
    }
   ],
   "source": [
    "os_last"
   ]
  },
  {
   "cell_type": "code",
   "execution_count": 128,
   "metadata": {},
   "outputs": [],
   "source": [
    "df = df.merge(os_last, on=['month', 'phone_id'], how='left')"
   ]
  },
  {
   "cell_type": "code",
   "execution_count": 130,
   "metadata": {},
   "outputs": [],
   "source": [
    "for i in ['android', 'ios', 'linux', 'mac', 'other', 'windows']:\n",
    "    df[i].fillna(0, inplace=True)"
   ]
  },
  {
   "cell_type": "code",
   "execution_count": 132,
   "metadata": {},
   "outputs": [],
   "source": [
    "df.to_pickle('fea_all_actual_00_24.pkl')"
   ]
  },
  {
   "cell_type": "code",
   "execution_count": 133,
   "metadata": {},
   "outputs": [],
   "source": [
    "# add city"
   ]
  },
  {
   "cell_type": "code",
   "execution_count": 150,
   "metadata": {},
   "outputs": [],
   "source": [
    "city_last = shipments.groupby(by=['month', 'phone_id'],\n",
    "                              as_index=False).agg({'dt_': [max], \n",
    "                                                   's.city_name': ['last']})"
   ]
  },
  {
   "cell_type": "code",
   "execution_count": 151,
   "metadata": {},
   "outputs": [
    {
     "data": {
      "text/html": [
       "<div>\n",
       "<style scoped>\n",
       "    .dataframe tbody tr th:only-of-type {\n",
       "        vertical-align: middle;\n",
       "    }\n",
       "\n",
       "    .dataframe tbody tr th {\n",
       "        vertical-align: top;\n",
       "    }\n",
       "\n",
       "    .dataframe thead tr th {\n",
       "        text-align: left;\n",
       "    }\n",
       "</style>\n",
       "<table border=\"1\" class=\"dataframe\">\n",
       "  <thead>\n",
       "    <tr>\n",
       "      <th></th>\n",
       "      <th>month</th>\n",
       "      <th>phone_id</th>\n",
       "      <th>dt_</th>\n",
       "      <th>s.city_name</th>\n",
       "    </tr>\n",
       "    <tr>\n",
       "      <th></th>\n",
       "      <th></th>\n",
       "      <th></th>\n",
       "      <th>max</th>\n",
       "      <th>last</th>\n",
       "    </tr>\n",
       "  </thead>\n",
       "  <tbody>\n",
       "    <tr>\n",
       "      <th>0</th>\n",
       "      <td>1</td>\n",
       "      <td>2</td>\n",
       "      <td>2020-01-22 10:28:37</td>\n",
       "      <td>Москва</td>\n",
       "    </tr>\n",
       "    <tr>\n",
       "      <th>1</th>\n",
       "      <td>1</td>\n",
       "      <td>6</td>\n",
       "      <td>2020-01-18 08:28:25</td>\n",
       "      <td>Москва</td>\n",
       "    </tr>\n",
       "    <tr>\n",
       "      <th>2</th>\n",
       "      <td>1</td>\n",
       "      <td>9</td>\n",
       "      <td>2020-01-03 09:05:59</td>\n",
       "      <td>Москва</td>\n",
       "    </tr>\n",
       "    <tr>\n",
       "      <th>3</th>\n",
       "      <td>1</td>\n",
       "      <td>11</td>\n",
       "      <td>2020-01-25 15:55:05</td>\n",
       "      <td>Москва</td>\n",
       "    </tr>\n",
       "    <tr>\n",
       "      <th>4</th>\n",
       "      <td>1</td>\n",
       "      <td>16</td>\n",
       "      <td>2020-01-25 11:58:56</td>\n",
       "      <td>Москва</td>\n",
       "    </tr>\n",
       "    <tr>\n",
       "      <th>...</th>\n",
       "      <td>...</td>\n",
       "      <td>...</td>\n",
       "      <td>...</td>\n",
       "      <td>...</td>\n",
       "    </tr>\n",
       "    <tr>\n",
       "      <th>1155779</th>\n",
       "      <td>8</td>\n",
       "      <td>719367</td>\n",
       "      <td>2020-08-14 20:25:38</td>\n",
       "      <td>Тюмень</td>\n",
       "    </tr>\n",
       "    <tr>\n",
       "      <th>1155780</th>\n",
       "      <td>8</td>\n",
       "      <td>719369</td>\n",
       "      <td>2020-08-15 16:32:30</td>\n",
       "      <td>Казань</td>\n",
       "    </tr>\n",
       "    <tr>\n",
       "      <th>1155781</th>\n",
       "      <td>8</td>\n",
       "      <td>719370</td>\n",
       "      <td>2020-08-17 10:10:52</td>\n",
       "      <td>Санкт-Петербург</td>\n",
       "    </tr>\n",
       "    <tr>\n",
       "      <th>1155782</th>\n",
       "      <td>8</td>\n",
       "      <td>719373</td>\n",
       "      <td>2020-08-14 20:52:08</td>\n",
       "      <td>Московская Область</td>\n",
       "    </tr>\n",
       "    <tr>\n",
       "      <th>1155783</th>\n",
       "      <td>8</td>\n",
       "      <td>719374</td>\n",
       "      <td>2020-08-14 20:15:45</td>\n",
       "      <td>Саратов</td>\n",
       "    </tr>\n",
       "  </tbody>\n",
       "</table>\n",
       "<p>1155784 rows × 4 columns</p>\n",
       "</div>"
      ],
      "text/plain": [
       "        month phone_id                 dt_         s.city_name\n",
       "                                       max                last\n",
       "0           1        2 2020-01-22 10:28:37              Москва\n",
       "1           1        6 2020-01-18 08:28:25              Москва\n",
       "2           1        9 2020-01-03 09:05:59              Москва\n",
       "3           1       11 2020-01-25 15:55:05              Москва\n",
       "4           1       16 2020-01-25 11:58:56              Москва\n",
       "...       ...      ...                 ...                 ...\n",
       "1155779     8   719367 2020-08-14 20:25:38              Тюмень\n",
       "1155780     8   719369 2020-08-15 16:32:30              Казань\n",
       "1155781     8   719370 2020-08-17 10:10:52     Санкт-Петербург\n",
       "1155782     8   719373 2020-08-14 20:52:08  Московская Область\n",
       "1155783     8   719374 2020-08-14 20:15:45             Саратов\n",
       "\n",
       "[1155784 rows x 4 columns]"
      ]
     },
     "execution_count": 151,
     "metadata": {},
     "output_type": "execute_result"
    }
   ],
   "source": [
    "city_last"
   ]
  },
  {
   "cell_type": "code",
   "execution_count": 153,
   "metadata": {},
   "outputs": [],
   "source": [
    "city_last['v'] = 1"
   ]
  },
  {
   "cell_type": "code",
   "execution_count": 152,
   "metadata": {},
   "outputs": [],
   "source": [
    "city_last.columns = city_last.columns.droplevel(1)"
   ]
  },
  {
   "cell_type": "code",
   "execution_count": 155,
   "metadata": {},
   "outputs": [],
   "source": [
    "import numpy as np"
   ]
  },
  {
   "cell_type": "code",
   "execution_count": 156,
   "metadata": {},
   "outputs": [],
   "source": [
    "city_last['s.city_name'] = np.where(\n",
    "    city_last['s.city_name'].isin(['Москва', 'Санкт-Петербург']), city_last['s.city_name'], 'Other_city')"
   ]
  },
  {
   "cell_type": "code",
   "execution_count": 157,
   "metadata": {},
   "outputs": [],
   "source": [
    "city_last = city_last.pivot_table(index=['month','phone_id'],\n",
    "                                  columns='s.city_name', \n",
    "                                  fill_value=0, \n",
    "                                  values='v',\n",
    "                                  aggfunc='max').reset_index()"
   ]
  },
  {
   "cell_type": "code",
   "execution_count": null,
   "metadata": {},
   "outputs": [],
   "source": []
  },
  {
   "cell_type": "code",
   "execution_count": 159,
   "metadata": {},
   "outputs": [],
   "source": [
    "df = df.merge(city_last, on=['month', 'phone_id'], how='left')"
   ]
  },
  {
   "cell_type": "code",
   "execution_count": 160,
   "metadata": {},
   "outputs": [],
   "source": [
    "for i in ['Other_city', 'Москва', 'Санкт-Петербург']:\n",
    "    df[i].fillna(0, inplace=True)"
   ]
  },
  {
   "cell_type": "code",
   "execution_count": 161,
   "metadata": {},
   "outputs": [],
   "source": [
    "df.to_pickle('fea_all_actual_00_24.pkl')"
   ]
  },
  {
   "cell_type": "code",
   "execution_count": 162,
   "metadata": {},
   "outputs": [],
   "source": [
    "# communication"
   ]
  },
  {
   "cell_type": "code",
   "execution_count": 163,
   "metadata": {},
   "outputs": [],
   "source": [
    "msg = pd.read_csv('ngwl-predict-customer-churn/messages/messages.csv')"
   ]
  },
  {
   "cell_type": "code",
   "execution_count": 165,
   "metadata": {},
   "outputs": [],
   "source": [
    "act = pd.read_csv('ngwl-predict-customer-churn/messages/actions.csv')"
   ]
  },
  {
   "cell_type": "code",
   "execution_count": 166,
   "metadata": {},
   "outputs": [
    {
     "data": {
      "text/html": [
       "<div>\n",
       "<style scoped>\n",
       "    .dataframe tbody tr th:only-of-type {\n",
       "        vertical-align: middle;\n",
       "    }\n",
       "\n",
       "    .dataframe tbody tr th {\n",
       "        vertical-align: top;\n",
       "    }\n",
       "\n",
       "    .dataframe thead th {\n",
       "        text-align: right;\n",
       "    }\n",
       "</style>\n",
       "<table border=\"1\" class=\"dataframe\">\n",
       "  <thead>\n",
       "    <tr style=\"text-align: right;\">\n",
       "      <th></th>\n",
       "      <th>id</th>\n",
       "      <th>subject</th>\n",
       "      <th>body</th>\n",
       "      <th>type</th>\n",
       "    </tr>\n",
       "  </thead>\n",
       "  <tbody>\n",
       "    <tr>\n",
       "      <th>0</th>\n",
       "      <td>239</td>\n",
       "      <td>NaN</td>\n",
       "      <td>NaN</td>\n",
       "      <td>push</td>\n",
       "    </tr>\n",
       "    <tr>\n",
       "      <th>1</th>\n",
       "      <td>77</td>\n",
       "      <td>NaN</td>\n",
       "      <td>NaN</td>\n",
       "      <td>push</td>\n",
       "    </tr>\n",
       "    <tr>\n",
       "      <th>2</th>\n",
       "      <td>213</td>\n",
       "      <td>Бесплатно доставим вам первый заказ👍</td>\n",
       "      <td>Оформляйте скорее, доставим в удобное время!</td>\n",
       "      <td>push</td>\n",
       "    </tr>\n",
       "    <tr>\n",
       "      <th>3</th>\n",
       "      <td>218</td>\n",
       "      <td>👍 Новые скидки METRO в Instamart</td>\n",
       "      <td>Успей заказать продукты по выгодной цене!</td>\n",
       "      <td>push</td>\n",
       "    </tr>\n",
       "    <tr>\n",
       "      <th>4</th>\n",
       "      <td>221</td>\n",
       "      <td>Дарим 500 рублей за приглашенного друга!</td>\n",
       "      <td>Обнови приложение, получи промокод и делись им...</td>\n",
       "      <td>push</td>\n",
       "    </tr>\n",
       "    <tr>\n",
       "      <th>...</th>\n",
       "      <td>...</td>\n",
       "      <td>...</td>\n",
       "      <td>...</td>\n",
       "      <td>...</td>\n",
       "    </tr>\n",
       "    <tr>\n",
       "      <th>957</th>\n",
       "      <td>2942</td>\n",
       "      <td>NaN</td>\n",
       "      <td>Скидка 500р на заказ товаров для офиса по пром...</td>\n",
       "      <td>sms</td>\n",
       "    </tr>\n",
       "    <tr>\n",
       "      <th>958</th>\n",
       "      <td>2925</td>\n",
       "      <td>NaN</td>\n",
       "      <td>NaN</td>\n",
       "      <td>sms</td>\n",
       "    </tr>\n",
       "    <tr>\n",
       "      <th>959</th>\n",
       "      <td>2927</td>\n",
       "      <td>NaN</td>\n",
       "      <td>NaN</td>\n",
       "      <td>sms</td>\n",
       "    </tr>\n",
       "    <tr>\n",
       "      <th>960</th>\n",
       "      <td>2928</td>\n",
       "      <td>NaN</td>\n",
       "      <td>NaN</td>\n",
       "      <td>sms</td>\n",
       "    </tr>\n",
       "    <tr>\n",
       "      <th>961</th>\n",
       "      <td>3105</td>\n",
       "      <td>NaN</td>\n",
       "      <td>У вас {{customer.remaining_bonuses}} бонусов. ...</td>\n",
       "      <td>sms</td>\n",
       "    </tr>\n",
       "  </tbody>\n",
       "</table>\n",
       "<p>962 rows × 4 columns</p>\n",
       "</div>"
      ],
      "text/plain": [
       "       id                                   subject  \\\n",
       "0     239                                       NaN   \n",
       "1      77                                       NaN   \n",
       "2     213      Бесплатно доставим вам первый заказ👍   \n",
       "3     218         👍 Новые скидки METRO в Instamart    \n",
       "4     221  Дарим 500 рублей за приглашенного друга!   \n",
       "..    ...                                       ...   \n",
       "957  2942                                       NaN   \n",
       "958  2925                                       NaN   \n",
       "959  2927                                       NaN   \n",
       "960  2928                                       NaN   \n",
       "961  3105                                       NaN   \n",
       "\n",
       "                                                  body  type  \n",
       "0                                                  NaN  push  \n",
       "1                                                  NaN  push  \n",
       "2         Оформляйте скорее, доставим в удобное время!  push  \n",
       "3            Успей заказать продукты по выгодной цене!  push  \n",
       "4    Обнови приложение, получи промокод и делись им...  push  \n",
       "..                                                 ...   ...  \n",
       "957  Скидка 500р на заказ товаров для офиса по пром...   sms  \n",
       "958                                                NaN   sms  \n",
       "959                                                NaN   sms  \n",
       "960                                                NaN   sms  \n",
       "961  У вас {{customer.remaining_bonuses}} бонусов. ...   sms  \n",
       "\n",
       "[962 rows x 4 columns]"
      ]
     },
     "execution_count": 166,
     "metadata": {},
     "output_type": "execute_result"
    }
   ],
   "source": [
    "act"
   ]
  },
  {
   "cell_type": "code",
   "execution_count": 168,
   "metadata": {},
   "outputs": [],
   "source": [
    "msg_act = msg.merge(act, left_on='action_id', right_on='id')"
   ]
  },
  {
   "cell_type": "code",
   "execution_count": 172,
   "metadata": {},
   "outputs": [],
   "source": [
    "msg_act['sent'] = pd.to_datetime(msg_act['sent'], unit='s')"
   ]
  },
  {
   "cell_type": "code",
   "execution_count": 182,
   "metadata": {},
   "outputs": [],
   "source": [
    "sale_msg_act = msg_act[msg_act['body'].fillna('0').str.lower().str.contains('скидка')]"
   ]
  },
  {
   "cell_type": "code",
   "execution_count": 183,
   "metadata": {},
   "outputs": [],
   "source": [
    "bon_msg_act = msg_act[msg_act['body'].fillna('0').str.lower().str.contains('бонус')]"
   ]
  },
  {
   "cell_type": "code",
   "execution_count": 184,
   "metadata": {},
   "outputs": [
    {
     "data": {
      "text/html": [
       "<div>\n",
       "<style scoped>\n",
       "    .dataframe tbody tr th:only-of-type {\n",
       "        vertical-align: middle;\n",
       "    }\n",
       "\n",
       "    .dataframe tbody tr th {\n",
       "        vertical-align: top;\n",
       "    }\n",
       "\n",
       "    .dataframe thead th {\n",
       "        text-align: right;\n",
       "    }\n",
       "</style>\n",
       "<table border=\"1\" class=\"dataframe\">\n",
       "  <thead>\n",
       "    <tr style=\"text-align: right;\">\n",
       "      <th></th>\n",
       "      <th>sent</th>\n",
       "      <th>action_id</th>\n",
       "      <th>user_id</th>\n",
       "      <th>id</th>\n",
       "      <th>subject</th>\n",
       "      <th>body</th>\n",
       "      <th>type</th>\n",
       "    </tr>\n",
       "  </thead>\n",
       "  <tbody>\n",
       "    <tr>\n",
       "      <th>1547014</th>\n",
       "      <td>2020-08-05 23:19:38</td>\n",
       "      <td>1875.0</td>\n",
       "      <td>2260800</td>\n",
       "      <td>1875</td>\n",
       "      <td>Ваш личный промокод уже внутри👉🏼 Посмотрим?</td>\n",
       "      <td>Скидка 250 рублей на третий заказ</td>\n",
       "      <td>email</td>\n",
       "    </tr>\n",
       "    <tr>\n",
       "      <th>1547015</th>\n",
       "      <td>2020-08-06 07:22:09</td>\n",
       "      <td>1875.0</td>\n",
       "      <td>301673</td>\n",
       "      <td>1875</td>\n",
       "      <td>Ваш личный промокод уже внутри👉🏼 Посмотрим?</td>\n",
       "      <td>Скидка 250 рублей на третий заказ</td>\n",
       "      <td>email</td>\n",
       "    </tr>\n",
       "    <tr>\n",
       "      <th>1547016</th>\n",
       "      <td>2020-08-05 21:10:37</td>\n",
       "      <td>1875.0</td>\n",
       "      <td>2418813</td>\n",
       "      <td>1875</td>\n",
       "      <td>Ваш личный промокод уже внутри👉🏼 Посмотрим?</td>\n",
       "      <td>Скидка 250 рублей на третий заказ</td>\n",
       "      <td>email</td>\n",
       "    </tr>\n",
       "    <tr>\n",
       "      <th>1547017</th>\n",
       "      <td>2020-08-05 19:31:01</td>\n",
       "      <td>1875.0</td>\n",
       "      <td>2418038</td>\n",
       "      <td>1875</td>\n",
       "      <td>Ваш личный промокод уже внутри👉🏼 Посмотрим?</td>\n",
       "      <td>Скидка 250 рублей на третий заказ</td>\n",
       "      <td>email</td>\n",
       "    </tr>\n",
       "    <tr>\n",
       "      <th>1547018</th>\n",
       "      <td>2020-08-06 06:36:24</td>\n",
       "      <td>1875.0</td>\n",
       "      <td>2417951</td>\n",
       "      <td>1875</td>\n",
       "      <td>Ваш личный промокод уже внутри👉🏼 Посмотрим?</td>\n",
       "      <td>Скидка 250 рублей на третий заказ</td>\n",
       "      <td>email</td>\n",
       "    </tr>\n",
       "    <tr>\n",
       "      <th>...</th>\n",
       "      <td>...</td>\n",
       "      <td>...</td>\n",
       "      <td>...</td>\n",
       "      <td>...</td>\n",
       "      <td>...</td>\n",
       "      <td>...</td>\n",
       "      <td>...</td>\n",
       "    </tr>\n",
       "    <tr>\n",
       "      <th>18275902</th>\n",
       "      <td>2020-08-12 14:18:10</td>\n",
       "      <td>2537.0</td>\n",
       "      <td>2288265</td>\n",
       "      <td>2537</td>\n",
       "      <td>NaN</td>\n",
       "      <td>Скидка 10% для вас! Используйте промокод Back1...</td>\n",
       "      <td>sms</td>\n",
       "    </tr>\n",
       "    <tr>\n",
       "      <th>18275903</th>\n",
       "      <td>2020-08-12 14:18:10</td>\n",
       "      <td>2537.0</td>\n",
       "      <td>2286292</td>\n",
       "      <td>2537</td>\n",
       "      <td>NaN</td>\n",
       "      <td>Скидка 10% для вас! Используйте промокод Back1...</td>\n",
       "      <td>sms</td>\n",
       "    </tr>\n",
       "    <tr>\n",
       "      <th>18275904</th>\n",
       "      <td>2020-08-12 14:18:10</td>\n",
       "      <td>2537.0</td>\n",
       "      <td>2284147</td>\n",
       "      <td>2537</td>\n",
       "      <td>NaN</td>\n",
       "      <td>Скидка 10% для вас! Используйте промокод Back1...</td>\n",
       "      <td>sms</td>\n",
       "    </tr>\n",
       "    <tr>\n",
       "      <th>18275905</th>\n",
       "      <td>2020-08-12 14:18:10</td>\n",
       "      <td>2537.0</td>\n",
       "      <td>2284215</td>\n",
       "      <td>2537</td>\n",
       "      <td>NaN</td>\n",
       "      <td>Скидка 10% для вас! Используйте промокод Back1...</td>\n",
       "      <td>sms</td>\n",
       "    </tr>\n",
       "    <tr>\n",
       "      <th>18275906</th>\n",
       "      <td>2020-08-12 14:18:10</td>\n",
       "      <td>2537.0</td>\n",
       "      <td>2282952</td>\n",
       "      <td>2537</td>\n",
       "      <td>NaN</td>\n",
       "      <td>Скидка 10% для вас! Используйте промокод Back1...</td>\n",
       "      <td>sms</td>\n",
       "    </tr>\n",
       "  </tbody>\n",
       "</table>\n",
       "<p>163633 rows × 7 columns</p>\n",
       "</div>"
      ],
      "text/plain": [
       "                        sent  action_id  user_id    id  \\\n",
       "1547014  2020-08-05 23:19:38     1875.0  2260800  1875   \n",
       "1547015  2020-08-06 07:22:09     1875.0   301673  1875   \n",
       "1547016  2020-08-05 21:10:37     1875.0  2418813  1875   \n",
       "1547017  2020-08-05 19:31:01     1875.0  2418038  1875   \n",
       "1547018  2020-08-06 06:36:24     1875.0  2417951  1875   \n",
       "...                      ...        ...      ...   ...   \n",
       "18275902 2020-08-12 14:18:10     2537.0  2288265  2537   \n",
       "18275903 2020-08-12 14:18:10     2537.0  2286292  2537   \n",
       "18275904 2020-08-12 14:18:10     2537.0  2284147  2537   \n",
       "18275905 2020-08-12 14:18:10     2537.0  2284215  2537   \n",
       "18275906 2020-08-12 14:18:10     2537.0  2282952  2537   \n",
       "\n",
       "                                              subject  \\\n",
       "1547014   Ваш личный промокод уже внутри👉🏼 Посмотрим?   \n",
       "1547015   Ваш личный промокод уже внутри👉🏼 Посмотрим?   \n",
       "1547016   Ваш личный промокод уже внутри👉🏼 Посмотрим?   \n",
       "1547017   Ваш личный промокод уже внутри👉🏼 Посмотрим?   \n",
       "1547018   Ваш личный промокод уже внутри👉🏼 Посмотрим?   \n",
       "...                                               ...   \n",
       "18275902                                          NaN   \n",
       "18275903                                          NaN   \n",
       "18275904                                          NaN   \n",
       "18275905                                          NaN   \n",
       "18275906                                          NaN   \n",
       "\n",
       "                                                       body   type  \n",
       "1547014                   Скидка 250 рублей на третий заказ  email  \n",
       "1547015                   Скидка 250 рублей на третий заказ  email  \n",
       "1547016                   Скидка 250 рублей на третий заказ  email  \n",
       "1547017                   Скидка 250 рублей на третий заказ  email  \n",
       "1547018                   Скидка 250 рублей на третий заказ  email  \n",
       "...                                                     ...    ...  \n",
       "18275902  Скидка 10% для вас! Используйте промокод Back1...    sms  \n",
       "18275903  Скидка 10% для вас! Используйте промокод Back1...    sms  \n",
       "18275904  Скидка 10% для вас! Используйте промокод Back1...    sms  \n",
       "18275905  Скидка 10% для вас! Используйте промокод Back1...    sms  \n",
       "18275906  Скидка 10% для вас! Используйте промокод Back1...    sms  \n",
       "\n",
       "[163633 rows x 7 columns]"
      ]
     },
     "execution_count": 184,
     "metadata": {},
     "output_type": "execute_result"
    }
   ],
   "source": [
    "sale_msg_act"
   ]
  },
  {
   "cell_type": "code",
   "execution_count": 185,
   "metadata": {},
   "outputs": [],
   "source": [
    "msg_act['discount_msg'] = np.where(msg_act['action_id'].isin(sale_msg_act['action_id']), 1, 0)"
   ]
  },
  {
   "cell_type": "code",
   "execution_count": 186,
   "metadata": {},
   "outputs": [],
   "source": [
    "msg_act['bonus_msg'] = np.where(msg_act['action_id'].isin(bon_msg_act['action_id']), 1, 0)"
   ]
  },
  {
   "cell_type": "code",
   "execution_count": 192,
   "metadata": {},
   "outputs": [],
   "source": [
    "msg_act['spam_msg'] = np.where(((msg_act['discount_msg']!=1) & (msg_act['bonus_msg']!=1)), 1, 0)"
   ]
  },
  {
   "cell_type": "code",
   "execution_count": 197,
   "metadata": {},
   "outputs": [],
   "source": [
    "msg_act['v'] = 1"
   ]
  },
  {
   "cell_type": "code",
   "execution_count": 200,
   "metadata": {},
   "outputs": [],
   "source": [
    "msg_act_type = msg_act.pivot_table(index=['sent','user_id'],\n",
    "                                  columns='type', \n",
    "                                  fill_value=0, \n",
    "                                  values='v',\n",
    "                                  aggfunc='max').reset_index()"
   ]
  },
  {
   "cell_type": "code",
   "execution_count": 204,
   "metadata": {},
   "outputs": [
    {
     "data": {
      "text/html": [
       "<div>\n",
       "<style scoped>\n",
       "    .dataframe tbody tr th:only-of-type {\n",
       "        vertical-align: middle;\n",
       "    }\n",
       "\n",
       "    .dataframe tbody tr th {\n",
       "        vertical-align: top;\n",
       "    }\n",
       "\n",
       "    .dataframe thead th {\n",
       "        text-align: right;\n",
       "    }\n",
       "</style>\n",
       "<table border=\"1\" class=\"dataframe\">\n",
       "  <thead>\n",
       "    <tr style=\"text-align: right;\">\n",
       "      <th>type</th>\n",
       "      <th>sent</th>\n",
       "      <th>user_id</th>\n",
       "      <th>email</th>\n",
       "      <th>push</th>\n",
       "      <th>sms</th>\n",
       "    </tr>\n",
       "  </thead>\n",
       "  <tbody>\n",
       "    <tr>\n",
       "      <th>0</th>\n",
       "      <td>2020-01-01 00:00:19</td>\n",
       "      <td>189905</td>\n",
       "      <td>1</td>\n",
       "      <td>0</td>\n",
       "      <td>0</td>\n",
       "    </tr>\n",
       "    <tr>\n",
       "      <th>1</th>\n",
       "      <td>2020-01-01 00:08:30</td>\n",
       "      <td>693122</td>\n",
       "      <td>1</td>\n",
       "      <td>0</td>\n",
       "      <td>0</td>\n",
       "    </tr>\n",
       "    <tr>\n",
       "      <th>2</th>\n",
       "      <td>2020-01-01 00:11:40</td>\n",
       "      <td>396595</td>\n",
       "      <td>1</td>\n",
       "      <td>0</td>\n",
       "      <td>0</td>\n",
       "    </tr>\n",
       "    <tr>\n",
       "      <th>3</th>\n",
       "      <td>2020-01-01 00:11:45</td>\n",
       "      <td>285185</td>\n",
       "      <td>1</td>\n",
       "      <td>0</td>\n",
       "      <td>0</td>\n",
       "    </tr>\n",
       "    <tr>\n",
       "      <th>4</th>\n",
       "      <td>2020-01-01 00:13:30</td>\n",
       "      <td>345665</td>\n",
       "      <td>1</td>\n",
       "      <td>0</td>\n",
       "      <td>0</td>\n",
       "    </tr>\n",
       "  </tbody>\n",
       "</table>\n",
       "</div>"
      ],
      "text/plain": [
       "type                sent  user_id  email  push  sms\n",
       "0    2020-01-01 00:00:19   189905      1     0    0\n",
       "1    2020-01-01 00:08:30   693122      1     0    0\n",
       "2    2020-01-01 00:11:40   396595      1     0    0\n",
       "3    2020-01-01 00:11:45   285185      1     0    0\n",
       "4    2020-01-01 00:13:30   345665      1     0    0"
      ]
     },
     "execution_count": 204,
     "metadata": {},
     "output_type": "execute_result"
    }
   ],
   "source": [
    "msg_act_type.head()"
   ]
  },
  {
   "cell_type": "code",
   "execution_count": 203,
   "metadata": {},
   "outputs": [],
   "source": [
    "msg_act = msg_act.merge(msg_act_type, on=['sent', 'user_id'])"
   ]
  },
  {
   "cell_type": "code",
   "execution_count": 207,
   "metadata": {},
   "outputs": [],
   "source": [
    "msg_act['month'] = msg_act['sent'].dt.month"
   ]
  },
  {
   "cell_type": "code",
   "execution_count": 210,
   "metadata": {},
   "outputs": [],
   "source": [
    "msg_act = msg_act.merge(shipments[['user_id', 'phone_id', 'month']].drop_duplicates())"
   ]
  },
  {
   "cell_type": "code",
   "execution_count": 213,
   "metadata": {},
   "outputs": [],
   "source": [
    "msg_act = msg_act.groupby(by=['month', 'phone_id'], as_index=False).agg({\n",
    "    'discount_msg': [sum],\n",
    "    'bonus_msg': [sum],\n",
    "    'spam_msg': [sum],\n",
    "    'email': [sum],\n",
    "    'push':[sum],\n",
    "    'sms':[sum],\n",
    "    'action_id': ['nunique']\n",
    "\n",
    "})"
   ]
  },
  {
   "cell_type": "code",
   "execution_count": 217,
   "metadata": {},
   "outputs": [],
   "source": [
    "# msg_act.columns = \n",
    "msg_act.columns = [x[0]+'_'+x[1] if ((x[0]!='month') and (x[0]!='phone_id')) else x[0]  for x in msg_act.columns ]"
   ]
  },
  {
   "cell_type": "code",
   "execution_count": 220,
   "metadata": {},
   "outputs": [],
   "source": [
    "df = df.merge(msg_act, on=['month', 'phone_id'], how='left')"
   ]
  },
  {
   "cell_type": "code",
   "execution_count": 222,
   "metadata": {},
   "outputs": [],
   "source": [
    "for i in ['discount_msg_sum',\n",
    "          'bonus_msg_sum',\n",
    "          'spam_msg_sum',\n",
    "          'email_sum',\n",
    "          'push_sum',\n",
    "          'sms_sum',\n",
    "          'action_id_nunique']:\n",
    "    df[i].fillna(0, inplace=True)"
   ]
  },
  {
   "cell_type": "code",
   "execution_count": 224,
   "metadata": {},
   "outputs": [],
   "source": [
    "df.to_pickle('fea_all_actual_01_29.pkl')"
   ]
  },
  {
   "cell_type": "code",
   "execution_count": 225,
   "metadata": {},
   "outputs": [],
   "source": [
    "# empty month ago"
   ]
  },
  {
   "cell_type": "code",
   "execution_count": 229,
   "metadata": {},
   "outputs": [],
   "source": [
    "mnth_orders = df[['order_id_nunique', 'month', 'phone_id']]"
   ]
  },
  {
   "cell_type": "code",
   "execution_count": 232,
   "metadata": {},
   "outputs": [],
   "source": [
    "mnth_before = mnth_orders[['month', 'phone_id']]"
   ]
  },
  {
   "cell_type": "code",
   "execution_count": 233,
   "metadata": {},
   "outputs": [
    {
     "name": "stderr",
     "output_type": "stream",
     "text": [
      "/opt/anaconda3/lib/python3.7/site-packages/ipykernel_launcher.py:1: SettingWithCopyWarning: \n",
      "A value is trying to be set on a copy of a slice from a DataFrame.\n",
      "Try using .loc[row_indexer,col_indexer] = value instead\n",
      "\n",
      "See the caveats in the documentation: https://pandas.pydata.org/pandas-docs/stable/user_guide/indexing.html#returning-a-view-versus-a-copy\n",
      "  \"\"\"Entry point for launching an IPython kernel.\n"
     ]
    }
   ],
   "source": [
    "mnth_before['month'] = mnth_before['month']-1"
   ]
  },
  {
   "cell_type": "code",
   "execution_count": 236,
   "metadata": {},
   "outputs": [],
   "source": [
    "mnth_before = mnth_before.merge(mnth_orders, on=['month', 'phone_id'], how='left')"
   ]
  },
  {
   "cell_type": "code",
   "execution_count": 238,
   "metadata": {},
   "outputs": [],
   "source": [
    "mnth_before['month'] = mnth_before['month']+1"
   ]
  },
  {
   "cell_type": "code",
   "execution_count": 240,
   "metadata": {},
   "outputs": [],
   "source": [
    "mnth_before['gap_in_month_before'] = np.where(mnth_before['order_id_nunique']>0, 0, 1)"
   ]
  },
  {
   "cell_type": "code",
   "execution_count": 244,
   "metadata": {},
   "outputs": [],
   "source": [
    "df = df.merge(mnth_before[['month', 'phone_id', 'gap_in_month_before']], on=['month', 'phone_id'])"
   ]
  },
  {
   "cell_type": "code",
   "execution_count": 245,
   "metadata": {},
   "outputs": [],
   "source": [
    "df.to_pickle('fea_all_actual_01_38.pkl')"
   ]
  },
  {
   "cell_type": "code",
   "execution_count": 246,
   "metadata": {},
   "outputs": [],
   "source": [
    "# frequancy_items"
   ]
  },
  {
   "cell_type": "code",
   "execution_count": null,
   "metadata": {},
   "outputs": [],
   "source": [
    "# items = pd.DataFrame({})\n",
    "# for i in [x for x in all_files if 'line' in x]:\n",
    "#     for fname in os.listdir('ngwl-predict-customer-churn/'+i):\n",
    "#         tmp = pd.read_csv(f'ngwl-predict-customer-churn/{i}/{fname}')\n",
    "#         tmp = tmp.groupby(by='item_id', as_index=False).agg({\n",
    "#                     'quantity': ['sum']\n",
    "#                 })\n",
    "#         tmp.columns = tmp.columns = [x[0]+'_'+x[1]  for x in tmp.columns]\n",
    "#         items = pd.concat([items, tmp])"
   ]
  },
  {
   "cell_type": "code",
   "execution_count": null,
   "metadata": {},
   "outputs": [],
   "source": []
  },
  {
   "cell_type": "code",
   "execution_count": 247,
   "metadata": {},
   "outputs": [],
   "source": [
    "# % возвращенных после коммуникации"
   ]
  },
  {
   "cell_type": "code",
   "execution_count": 248,
   "metadata": {},
   "outputs": [],
   "source": [
    "msg = pd.read_csv('ngwl-predict-customer-churn/messages/messages.csv')\n",
    "act = pd.read_csv('ngwl-predict-customer-churn/messages/actions.csv')\n",
    "msg_act = msg.merge(act, left_on='action_id', right_on='id')\n",
    "msg_act['sent'] = pd.to_datetime(msg_act['sent'], unit='s')\n",
    "sale_msg_act = msg_act[msg_act['body'].fillna('0').str.lower().str.contains('скидка')]\n",
    "bon_msg_act = msg_act[msg_act['body'].fillna('0').str.lower().str.contains('бонус')]\n",
    "msg_act['discount_msg'] = np.where(msg_act['action_id'].isin(sale_msg_act['action_id']), 1, 0)\n",
    "msg_act['bonus_msg'] = np.where(msg_act['action_id'].isin(bon_msg_act['action_id']), 1, 0)\n",
    "msg_act['spam_msg'] = np.where(((msg_act['discount_msg']!=1) & (msg_act['bonus_msg']!=1)), 1, 0)"
   ]
  },
  {
   "cell_type": "code",
   "execution_count": 251,
   "metadata": {},
   "outputs": [],
   "source": [
    "shipments_order_part = shipments[['user_id', 'dt_', 'phone_id', 's.order_state', 'shipment_state']].drop_duplicates()"
   ]
  },
  {
   "cell_type": "code",
   "execution_count": 309,
   "metadata": {},
   "outputs": [],
   "source": [
    "shipments_and_msg = shipments_order_part.merge(msg_act[[\n",
    "    'sent', \n",
    "    'user_id',\n",
    "    'type', \n",
    "    'discount_msg', \n",
    "    'bonus_msg', \n",
    "    'spam_msg'\n",
    "]],\n",
    " on='user_id')"
   ]
  },
  {
   "cell_type": "code",
   "execution_count": 310,
   "metadata": {},
   "outputs": [],
   "source": [
    "shipments_and_msg['diff'] = shipments_and_msg['dt_']-shipments_and_msg['sent']"
   ]
  },
  {
   "cell_type": "code",
   "execution_count": 311,
   "metadata": {},
   "outputs": [],
   "source": [
    "shipments_and_msg['diff_days'] = shipments_and_msg['diff'].dt.days"
   ]
  },
  {
   "cell_type": "code",
   "execution_count": 312,
   "metadata": {},
   "outputs": [],
   "source": [
    "shipments_and_msg = shipments_and_msg[shipments_and_msg.diff_days>=0]"
   ]
  },
  {
   "cell_type": "code",
   "execution_count": 313,
   "metadata": {},
   "outputs": [],
   "source": [
    "shipments_and_msg_days_diff = shipments_and_msg.groupby(by='phone_id', as_index=False)['diff_days'].min()"
   ]
  },
  {
   "cell_type": "code",
   "execution_count": 314,
   "metadata": {},
   "outputs": [],
   "source": [
    "shipments_and_msg_days_diff.drop_duplicates(inplace=True)"
   ]
  },
  {
   "cell_type": "code",
   "execution_count": 315,
   "metadata": {},
   "outputs": [
    {
     "data": {
      "text/html": [
       "<div>\n",
       "<style scoped>\n",
       "    .dataframe tbody tr th:only-of-type {\n",
       "        vertical-align: middle;\n",
       "    }\n",
       "\n",
       "    .dataframe tbody tr th {\n",
       "        vertical-align: top;\n",
       "    }\n",
       "\n",
       "    .dataframe thead th {\n",
       "        text-align: right;\n",
       "    }\n",
       "</style>\n",
       "<table border=\"1\" class=\"dataframe\">\n",
       "  <thead>\n",
       "    <tr style=\"text-align: right;\">\n",
       "      <th></th>\n",
       "      <th>phone_id</th>\n",
       "      <th>diff_days</th>\n",
       "    </tr>\n",
       "  </thead>\n",
       "  <tbody>\n",
       "    <tr>\n",
       "      <th>count</th>\n",
       "      <td>505503.000000</td>\n",
       "      <td>505503.000000</td>\n",
       "    </tr>\n",
       "    <tr>\n",
       "      <th>mean</th>\n",
       "      <td>313835.624564</td>\n",
       "      <td>2.200193</td>\n",
       "    </tr>\n",
       "    <tr>\n",
       "      <th>std</th>\n",
       "      <td>203937.205929</td>\n",
       "      <td>11.171409</td>\n",
       "    </tr>\n",
       "    <tr>\n",
       "      <th>min</th>\n",
       "      <td>2.000000</td>\n",
       "      <td>0.000000</td>\n",
       "    </tr>\n",
       "    <tr>\n",
       "      <th>25%</th>\n",
       "      <td>140366.500000</td>\n",
       "      <td>0.000000</td>\n",
       "    </tr>\n",
       "    <tr>\n",
       "      <th>50%</th>\n",
       "      <td>289138.000000</td>\n",
       "      <td>0.000000</td>\n",
       "    </tr>\n",
       "    <tr>\n",
       "      <th>75%</th>\n",
       "      <td>476971.500000</td>\n",
       "      <td>0.000000</td>\n",
       "    </tr>\n",
       "    <tr>\n",
       "      <th>max</th>\n",
       "      <td>719374.000000</td>\n",
       "      <td>239.000000</td>\n",
       "    </tr>\n",
       "  </tbody>\n",
       "</table>\n",
       "</div>"
      ],
      "text/plain": [
       "            phone_id      diff_days\n",
       "count  505503.000000  505503.000000\n",
       "mean   313835.624564       2.200193\n",
       "std    203937.205929      11.171409\n",
       "min         2.000000       0.000000\n",
       "25%    140366.500000       0.000000\n",
       "50%    289138.000000       0.000000\n",
       "75%    476971.500000       0.000000\n",
       "max    719374.000000     239.000000"
      ]
     },
     "execution_count": 315,
     "metadata": {},
     "output_type": "execute_result"
    }
   ],
   "source": [
    "shipments_and_msg_days_diff.describe()"
   ]
  },
  {
   "cell_type": "code",
   "execution_count": 316,
   "metadata": {},
   "outputs": [],
   "source": [
    "import seaborn as sns"
   ]
  },
  {
   "cell_type": "code",
   "execution_count": 317,
   "metadata": {},
   "outputs": [],
   "source": [
    "%matplotlib inline\n",
    "import matplotlib.pyplot as plt"
   ]
  },
  {
   "cell_type": "code",
   "execution_count": 318,
   "metadata": {},
   "outputs": [],
   "source": [
    "cnt_phone = shipments_and_msg_days_diff.groupby(by='diff_days', as_index=False)['phone_id'].count()"
   ]
  },
  {
   "cell_type": "code",
   "execution_count": 319,
   "metadata": {},
   "outputs": [
    {
     "data": {
      "image/png": "[encoded data removed]",
      "text/plain": [
       "<Figure size 432x288 with 1 Axes>"
      ]
     },
     "metadata": {
      "needs_background": "light"
     },
     "output_type": "display_data"
    }
   ],
   "source": [
    "sns.boxplot(data=cnt_phone['diff_days'], orient='h');"
   ]
  },
  {
   "cell_type": "code",
   "execution_count": 320,
   "metadata": {},
   "outputs": [
    {
     "data": {
      "text/plain": [
       "<matplotlib.axes._subplots.AxesSubplot at 0x7fd491fdfd90>"
      ]
     },
     "execution_count": 320,
     "metadata": {},
     "output_type": "execute_result"
    },
    {
     "data": {
      "image/png": "[encoded data removed]",
      "text/plain": [
       "<Figure size 432x288 with 1 Axes>"
      ]
     },
     "metadata": {
      "needs_background": "light"
     },
     "output_type": "display_data"
    }
   ],
   "source": [
    "sns.distplot(cnt_phone)"
   ]
  },
  {
   "cell_type": "code",
   "execution_count": 321,
   "metadata": {},
   "outputs": [
    {
     "data": {
      "text/html": [
       "<div>\n",
       "<style scoped>\n",
       "    .dataframe tbody tr th:only-of-type {\n",
       "        vertical-align: middle;\n",
       "    }\n",
       "\n",
       "    .dataframe tbody tr th {\n",
       "        vertical-align: top;\n",
       "    }\n",
       "\n",
       "    .dataframe thead th {\n",
       "        text-align: right;\n",
       "    }\n",
       "</style>\n",
       "<table border=\"1\" class=\"dataframe\">\n",
       "  <thead>\n",
       "    <tr style=\"text-align: right;\">\n",
       "      <th></th>\n",
       "      <th>diff_days</th>\n",
       "      <th>phone_id</th>\n",
       "    </tr>\n",
       "  </thead>\n",
       "  <tbody>\n",
       "    <tr>\n",
       "      <th>0</th>\n",
       "      <td>0</td>\n",
       "      <td>413614</td>\n",
       "    </tr>\n",
       "    <tr>\n",
       "      <th>1</th>\n",
       "      <td>1</td>\n",
       "      <td>25811</td>\n",
       "    </tr>\n",
       "    <tr>\n",
       "      <th>2</th>\n",
       "      <td>2</td>\n",
       "      <td>13847</td>\n",
       "    </tr>\n",
       "    <tr>\n",
       "      <th>3</th>\n",
       "      <td>3</td>\n",
       "      <td>8468</td>\n",
       "    </tr>\n",
       "  </tbody>\n",
       "</table>\n",
       "</div>"
      ],
      "text/plain": [
       "   diff_days  phone_id\n",
       "0          0    413614\n",
       "1          1     25811\n",
       "2          2     13847\n",
       "3          3      8468"
      ]
     },
     "execution_count": 321,
     "metadata": {},
     "output_type": "execute_result"
    }
   ],
   "source": [
    "cnt_phone[cnt_phone['diff_days']<=3]"
   ]
  },
  {
   "cell_type": "code",
   "execution_count": 326,
   "metadata": {},
   "outputs": [],
   "source": [
    "retur_users = shipments_and_msg[shipments_and_msg['s.order_state']=='complete']"
   ]
  },
  {
   "cell_type": "code",
   "execution_count": 330,
   "metadata": {},
   "outputs": [],
   "source": [
    "retur_users = retur_users.merge(retur_users.groupby(by=['phone_id', 'sent'], as_index=False)['diff_days'].min())"
   ]
  },
  {
   "cell_type": "code",
   "execution_count": 334,
   "metadata": {},
   "outputs": [],
   "source": [
    "retur_users['month'] = retur_users['dt_'].dt.month"
   ]
  },
  {
   "cell_type": "code",
   "execution_count": 343,
   "metadata": {},
   "outputs": [],
   "source": [
    "shipments['rnk'] = shipments.groupby(by='phone_id')['dt_'].rank(method='first')"
   ]
  },
  {
   "cell_type": "code",
   "execution_count": 346,
   "metadata": {},
   "outputs": [],
   "source": [
    "shipments['rnk2'] = shipments['rnk']-1"
   ]
  },
  {
   "cell_type": "code",
   "execution_count": 350,
   "metadata": {},
   "outputs": [],
   "source": [
    "shipments_lag = shipments.merge(shipments[['rnk2', 'phone_id', 'dt_']], left_on=['rnk', 'phone_id'], right_on=['rnk2', 'phone_id'])"
   ]
  },
  {
   "cell_type": "code",
   "execution_count": 353,
   "metadata": {},
   "outputs": [],
   "source": [
    "shipments_lag['days_lag'] = (shipments_lag['dt__y']-shipments_lag['dt__x']).dt.days"
   ]
  },
  {
   "cell_type": "code",
   "execution_count": 356,
   "metadata": {},
   "outputs": [],
   "source": [
    "shipments_lag_30 = shipments_lag[shipments_lag['days_lag']>=30]"
   ]
  },
  {
   "cell_type": "code",
   "execution_count": 358,
   "metadata": {},
   "outputs": [
    {
     "data": {
      "text/html": [
       "<div>\n",
       "<style scoped>\n",
       "    .dataframe tbody tr th:only-of-type {\n",
       "        vertical-align: middle;\n",
       "    }\n",
       "\n",
       "    .dataframe tbody tr th {\n",
       "        vertical-align: top;\n",
       "    }\n",
       "\n",
       "    .dataframe thead tr th {\n",
       "        text-align: left;\n",
       "    }\n",
       "</style>\n",
       "<table border=\"1\" class=\"dataframe\">\n",
       "  <thead>\n",
       "    <tr>\n",
       "      <th></th>\n",
       "      <th>month</th>\n",
       "      <th>phone_id</th>\n",
       "    </tr>\n",
       "    <tr>\n",
       "      <th></th>\n",
       "      <th></th>\n",
       "      <th>nunique</th>\n",
       "    </tr>\n",
       "  </thead>\n",
       "  <tbody>\n",
       "    <tr>\n",
       "      <th>0</th>\n",
       "      <td>1</td>\n",
       "      <td>12546</td>\n",
       "    </tr>\n",
       "    <tr>\n",
       "      <th>1</th>\n",
       "      <td>2</td>\n",
       "      <td>14601</td>\n",
       "    </tr>\n",
       "    <tr>\n",
       "      <th>2</th>\n",
       "      <td>3</td>\n",
       "      <td>24700</td>\n",
       "    </tr>\n",
       "    <tr>\n",
       "      <th>3</th>\n",
       "      <td>4</td>\n",
       "      <td>24533</td>\n",
       "    </tr>\n",
       "    <tr>\n",
       "      <th>4</th>\n",
       "      <td>5</td>\n",
       "      <td>35912</td>\n",
       "    </tr>\n",
       "    <tr>\n",
       "      <th>5</th>\n",
       "      <td>6</td>\n",
       "      <td>36869</td>\n",
       "    </tr>\n",
       "    <tr>\n",
       "      <th>6</th>\n",
       "      <td>7</td>\n",
       "      <td>20489</td>\n",
       "    </tr>\n",
       "    <tr>\n",
       "      <th>7</th>\n",
       "      <td>8</td>\n",
       "      <td>20</td>\n",
       "    </tr>\n",
       "  </tbody>\n",
       "</table>\n",
       "</div>"
      ],
      "text/plain": [
       "  month phone_id\n",
       "         nunique\n",
       "0     1    12546\n",
       "1     2    14601\n",
       "2     3    24700\n",
       "3     4    24533\n",
       "4     5    35912\n",
       "5     6    36869\n",
       "6     7    20489\n",
       "7     8       20"
      ]
     },
     "execution_count": 358,
     "metadata": {},
     "output_type": "execute_result"
    }
   ],
   "source": [
    "shipments_lag_30.groupby(by='month', as_index=False).agg({'phone_id':['nunique']})"
   ]
  },
  {
   "cell_type": "code",
   "execution_count": 366,
   "metadata": {},
   "outputs": [],
   "source": [
    "shipments_lag_30_m = shipments_lag_30.merge(retur_users[['dt_', 'phone_id']], on=['phone_id'])\n",
    "shipments_lag_30_m = shipments_lag_30_m[shipments_lag_30_m.dt_>shipments_lag_30_m.dt__y]"
   ]
  },
  {
   "cell_type": "code",
   "execution_count": 368,
   "metadata": {},
   "outputs": [
    {
     "data": {
      "text/html": [
       "<div>\n",
       "<style scoped>\n",
       "    .dataframe tbody tr th:only-of-type {\n",
       "        vertical-align: middle;\n",
       "    }\n",
       "\n",
       "    .dataframe tbody tr th {\n",
       "        vertical-align: top;\n",
       "    }\n",
       "\n",
       "    .dataframe thead tr th {\n",
       "        text-align: left;\n",
       "    }\n",
       "</style>\n",
       "<table border=\"1\" class=\"dataframe\">\n",
       "  <thead>\n",
       "    <tr>\n",
       "      <th></th>\n",
       "      <th>month</th>\n",
       "      <th>phone_id</th>\n",
       "    </tr>\n",
       "    <tr>\n",
       "      <th></th>\n",
       "      <th></th>\n",
       "      <th>nunique</th>\n",
       "    </tr>\n",
       "  </thead>\n",
       "  <tbody>\n",
       "    <tr>\n",
       "      <th>0</th>\n",
       "      <td>1</td>\n",
       "      <td>8124</td>\n",
       "    </tr>\n",
       "    <tr>\n",
       "      <th>1</th>\n",
       "      <td>2</td>\n",
       "      <td>9197</td>\n",
       "    </tr>\n",
       "    <tr>\n",
       "      <th>2</th>\n",
       "      <td>3</td>\n",
       "      <td>15318</td>\n",
       "    </tr>\n",
       "    <tr>\n",
       "      <th>3</th>\n",
       "      <td>4</td>\n",
       "      <td>12669</td>\n",
       "    </tr>\n",
       "    <tr>\n",
       "      <th>4</th>\n",
       "      <td>5</td>\n",
       "      <td>15577</td>\n",
       "    </tr>\n",
       "    <tr>\n",
       "      <th>5</th>\n",
       "      <td>6</td>\n",
       "      <td>14253</td>\n",
       "    </tr>\n",
       "    <tr>\n",
       "      <th>6</th>\n",
       "      <td>7</td>\n",
       "      <td>3963</td>\n",
       "    </tr>\n",
       "  </tbody>\n",
       "</table>\n",
       "</div>"
      ],
      "text/plain": [
       "  month phone_id\n",
       "         nunique\n",
       "0     1     8124\n",
       "1     2     9197\n",
       "2     3    15318\n",
       "3     4    12669\n",
       "4     5    15577\n",
       "5     6    14253\n",
       "6     7     3963"
      ]
     },
     "execution_count": 368,
     "metadata": {},
     "output_type": "execute_result"
    }
   ],
   "source": [
    "shipments_lag_30_m.groupby(by='month', as_index=False).agg({'phone_id':['nunique']})"
   ]
  },
  {
   "cell_type": "code",
   "execution_count": 382,
   "metadata": {},
   "outputs": [],
   "source": [
    "with_comm = df[\n",
    "    (df.gap_in_month_before==0)\n",
    "   &\n",
    "   (df.action_id_nunique==1)\n",
    "  ].groupby(by='month', as_index=False).agg({'phone_id':['nunique']})"
   ]
  },
  {
   "cell_type": "code",
   "execution_count": 383,
   "metadata": {},
   "outputs": [
    {
     "data": {
      "text/html": [
       "<div>\n",
       "<style scoped>\n",
       "    .dataframe tbody tr th:only-of-type {\n",
       "        vertical-align: middle;\n",
       "    }\n",
       "\n",
       "    .dataframe tbody tr th {\n",
       "        vertical-align: top;\n",
       "    }\n",
       "\n",
       "    .dataframe thead tr th {\n",
       "        text-align: left;\n",
       "    }\n",
       "</style>\n",
       "<table border=\"1\" class=\"dataframe\">\n",
       "  <thead>\n",
       "    <tr>\n",
       "      <th></th>\n",
       "      <th>month</th>\n",
       "      <th>phone_id</th>\n",
       "    </tr>\n",
       "    <tr>\n",
       "      <th></th>\n",
       "      <th></th>\n",
       "      <th>nunique</th>\n",
       "    </tr>\n",
       "  </thead>\n",
       "  <tbody>\n",
       "    <tr>\n",
       "      <th>0</th>\n",
       "      <td>2</td>\n",
       "      <td>1405</td>\n",
       "    </tr>\n",
       "    <tr>\n",
       "      <th>1</th>\n",
       "      <td>3</td>\n",
       "      <td>1034</td>\n",
       "    </tr>\n",
       "    <tr>\n",
       "      <th>2</th>\n",
       "      <td>4</td>\n",
       "      <td>2395</td>\n",
       "    </tr>\n",
       "    <tr>\n",
       "      <th>3</th>\n",
       "      <td>5</td>\n",
       "      <td>3985</td>\n",
       "    </tr>\n",
       "    <tr>\n",
       "      <th>4</th>\n",
       "      <td>6</td>\n",
       "      <td>6017</td>\n",
       "    </tr>\n",
       "    <tr>\n",
       "      <th>5</th>\n",
       "      <td>7</td>\n",
       "      <td>3401</td>\n",
       "    </tr>\n",
       "    <tr>\n",
       "      <th>6</th>\n",
       "      <td>8</td>\n",
       "      <td>1801</td>\n",
       "    </tr>\n",
       "  </tbody>\n",
       "</table>\n",
       "</div>"
      ],
      "text/plain": [
       "  month phone_id\n",
       "         nunique\n",
       "0     2     1405\n",
       "1     3     1034\n",
       "2     4     2395\n",
       "3     5     3985\n",
       "4     6     6017\n",
       "5     7     3401\n",
       "6     8     1801"
      ]
     },
     "execution_count": 383,
     "metadata": {},
     "output_type": "execute_result"
    }
   ],
   "source": [
    "with_comm"
   ]
  },
  {
   "cell_type": "code",
   "execution_count": null,
   "metadata": {},
   "outputs": [],
   "source": []
  }
 ],
 "metadata": {
  "kernelspec": {
   "display_name": "Python 3",
   "language": "python",
   "name": "python3"
  },
  "language_info": {
   "codemirror_mode": {
    "name": "ipython",
    "version": 3
   },
   "file_extension": ".py",
   "mimetype": "text/x-python",
   "name": "python",
   "nbconvert_exporter": "python",
   "pygments_lexer": "ipython3",
   "version": "3.7.6"
  }
 },
 "nbformat": 4,
 "nbformat_minor": 4
}
